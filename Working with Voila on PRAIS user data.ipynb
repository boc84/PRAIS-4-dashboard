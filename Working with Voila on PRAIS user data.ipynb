{
 "cells": [
  {
   "cell_type": "code",
   "execution_count": 1,
   "id": "2ad82aa8",
   "metadata": {},
   "outputs": [],
   "source": [
    "import numpy as np\n",
    "import pandas as pd\n",
    "import voila\n",
    "show_tracebacks=True\n",
    "\n",
    "import warnings\n",
    "warnings.filterwarnings(\"ignore\")"
   ]
  },
  {
   "cell_type": "code",
   "execution_count": 2,
   "id": "b36ae551",
   "metadata": {},
   "outputs": [
    {
     "data": {
      "text/html": [
       "<h1><center>Some Basic Visualisation for PRAIS Users!</center></h1>"
      ],
      "text/plain": [
       "<IPython.core.display.HTML object>"
      ]
     },
     "metadata": {},
     "output_type": "display_data"
    }
   ],
   "source": [
    "from IPython.core.display import display, HTML\n",
    "display(HTML('<h1><center>Some Basic Visualisation for PRAIS Users!</center></h1>'))"
   ]
  },
  {
   "cell_type": "code",
   "execution_count": 4,
   "id": "e426f058",
   "metadata": {},
   "outputs": [
    {
     "ename": "UnicodeDecodeError",
     "evalue": "'utf-8' codec can't decode byte 0xef in position 10: unexpected end of data",
     "output_type": "error",
     "traceback": [
      "\u001b[1;31m---------------------------------------------------------------------------\u001b[0m",
      "\u001b[1;31mUnicodeDecodeError\u001b[0m                        Traceback (most recent call last)",
      "File \u001b[1;32mpandas\\_libs\\parsers.pyx:1119\u001b[0m, in \u001b[0;36mpandas._libs.parsers.TextReader._convert_tokens\u001b[1;34m()\u001b[0m\n",
      "File \u001b[1;32mpandas\\_libs\\parsers.pyx:1244\u001b[0m, in \u001b[0;36mpandas._libs.parsers.TextReader._convert_with_dtype\u001b[1;34m()\u001b[0m\n",
      "File \u001b[1;32mpandas\\_libs\\parsers.pyx:1259\u001b[0m, in \u001b[0;36mpandas._libs.parsers.TextReader._string_convert\u001b[1;34m()\u001b[0m\n",
      "File \u001b[1;32mpandas\\_libs\\parsers.pyx:1450\u001b[0m, in \u001b[0;36mpandas._libs.parsers._string_box_utf8\u001b[1;34m()\u001b[0m\n",
      "\u001b[1;31mUnicodeDecodeError\u001b[0m: 'utf-8' codec can't decode byte 0xef in position 10: unexpected end of data",
      "\nDuring handling of the above exception, another exception occurred:\n",
      "\u001b[1;31mUnicodeDecodeError\u001b[0m                        Traceback (most recent call last)",
      "Input \u001b[1;32mIn [4]\u001b[0m, in \u001b[0;36m<cell line: 2>\u001b[1;34m()\u001b[0m\n\u001b[0;32m      1\u001b[0m \u001b[38;5;66;03m#views a sample dataset found online\u001b[39;00m\n\u001b[1;32m----> 2\u001b[0m users \u001b[38;5;241m=\u001b[39m \u001b[43mpd\u001b[49m\u001b[38;5;241;43m.\u001b[39;49m\u001b[43mread_csv\u001b[49m\u001b[43m(\u001b[49m\u001b[38;5;124;43m\"\u001b[39;49m\u001b[38;5;124;43mC:\u001b[39;49m\u001b[38;5;130;43;01m\\\\\u001b[39;49;00m\u001b[38;5;124;43mUsers\u001b[39;49m\u001b[38;5;130;43;01m\\\\\u001b[39;49;00m\u001b[38;5;124;43mboconnor\u001b[39;49m\u001b[38;5;130;43;01m\\\\\u001b[39;49;00m\u001b[38;5;124;43mOneDrive - UNCCD\u001b[39;49m\u001b[38;5;130;43;01m\\\\\u001b[39;49;00m\u001b[38;5;124;43mGIS\u001b[39;49m\u001b[38;5;130;43;01m\\\\\u001b[39;49;00m\u001b[38;5;124;43mPractice_Python\u001b[39;49m\u001b[38;5;130;43;01m\\\\\u001b[39;49;00m\u001b[38;5;124;43mVoila_Jupyter\u001b[39;49m\u001b[38;5;130;43;01m\\\\\u001b[39;49;00m\u001b[38;5;124;43mSample_Dataset\u001b[39;49m\u001b[38;5;130;43;01m\\\\\u001b[39;49;00m\u001b[38;5;124;43muser.csv\u001b[39;49m\u001b[38;5;124;43m\"\u001b[39;49m\u001b[43m,\u001b[49m\u001b[43m \u001b[49m\u001b[43mindex_col\u001b[49m\u001b[38;5;241;43m=\u001b[39;49m\u001b[38;5;241;43m0\u001b[39;49m\u001b[43m)\u001b[49m\n\u001b[0;32m      3\u001b[0m users\u001b[38;5;241m.\u001b[39mhead()\n",
      "File \u001b[1;32mC:\\OSGeo4W\\apps\\Python39\\lib\\site-packages\\pandas\\io\\parsers.py:686\u001b[0m, in \u001b[0;36mread_csv\u001b[1;34m(filepath_or_buffer, sep, delimiter, header, names, index_col, usecols, squeeze, prefix, mangle_dupe_cols, dtype, engine, converters, true_values, false_values, skipinitialspace, skiprows, skipfooter, nrows, na_values, keep_default_na, na_filter, verbose, skip_blank_lines, parse_dates, infer_datetime_format, keep_date_col, date_parser, dayfirst, cache_dates, iterator, chunksize, compression, thousands, decimal, lineterminator, quotechar, quoting, doublequote, escapechar, comment, encoding, dialect, error_bad_lines, warn_bad_lines, delim_whitespace, low_memory, memory_map, float_precision)\u001b[0m\n\u001b[0;32m    633\u001b[0m     engine_specified \u001b[38;5;241m=\u001b[39m \u001b[38;5;28;01mFalse\u001b[39;00m\n\u001b[0;32m    635\u001b[0m kwds\u001b[38;5;241m.\u001b[39mupdate(\n\u001b[0;32m    636\u001b[0m     delimiter\u001b[38;5;241m=\u001b[39mdelimiter,\n\u001b[0;32m    637\u001b[0m     engine\u001b[38;5;241m=\u001b[39mengine,\n\u001b[1;32m   (...)\u001b[0m\n\u001b[0;32m    683\u001b[0m     skip_blank_lines\u001b[38;5;241m=\u001b[39mskip_blank_lines,\n\u001b[0;32m    684\u001b[0m )\n\u001b[1;32m--> 686\u001b[0m \u001b[38;5;28;01mreturn\u001b[39;00m \u001b[43m_read\u001b[49m\u001b[43m(\u001b[49m\u001b[43mfilepath_or_buffer\u001b[49m\u001b[43m,\u001b[49m\u001b[43m \u001b[49m\u001b[43mkwds\u001b[49m\u001b[43m)\u001b[49m\n",
      "File \u001b[1;32mC:\\OSGeo4W\\apps\\Python39\\lib\\site-packages\\pandas\\io\\parsers.py:458\u001b[0m, in \u001b[0;36m_read\u001b[1;34m(filepath_or_buffer, kwds)\u001b[0m\n\u001b[0;32m    455\u001b[0m     \u001b[38;5;28;01mreturn\u001b[39;00m parser\n\u001b[0;32m    457\u001b[0m \u001b[38;5;28;01mtry\u001b[39;00m:\n\u001b[1;32m--> 458\u001b[0m     data \u001b[38;5;241m=\u001b[39m \u001b[43mparser\u001b[49m\u001b[38;5;241;43m.\u001b[39;49m\u001b[43mread\u001b[49m\u001b[43m(\u001b[49m\u001b[43mnrows\u001b[49m\u001b[43m)\u001b[49m\n\u001b[0;32m    459\u001b[0m \u001b[38;5;28;01mfinally\u001b[39;00m:\n\u001b[0;32m    460\u001b[0m     parser\u001b[38;5;241m.\u001b[39mclose()\n",
      "File \u001b[1;32mC:\\OSGeo4W\\apps\\Python39\\lib\\site-packages\\pandas\\io\\parsers.py:1196\u001b[0m, in \u001b[0;36mTextFileReader.read\u001b[1;34m(self, nrows)\u001b[0m\n\u001b[0;32m   1194\u001b[0m \u001b[38;5;28;01mdef\u001b[39;00m \u001b[38;5;21mread\u001b[39m(\u001b[38;5;28mself\u001b[39m, nrows\u001b[38;5;241m=\u001b[39m\u001b[38;5;28;01mNone\u001b[39;00m):\n\u001b[0;32m   1195\u001b[0m     nrows \u001b[38;5;241m=\u001b[39m _validate_integer(\u001b[38;5;124m\"\u001b[39m\u001b[38;5;124mnrows\u001b[39m\u001b[38;5;124m\"\u001b[39m, nrows)\n\u001b[1;32m-> 1196\u001b[0m     ret \u001b[38;5;241m=\u001b[39m \u001b[38;5;28;43mself\u001b[39;49m\u001b[38;5;241;43m.\u001b[39;49m\u001b[43m_engine\u001b[49m\u001b[38;5;241;43m.\u001b[39;49m\u001b[43mread\u001b[49m\u001b[43m(\u001b[49m\u001b[43mnrows\u001b[49m\u001b[43m)\u001b[49m\n\u001b[0;32m   1198\u001b[0m     \u001b[38;5;66;03m# May alter columns / col_dict\u001b[39;00m\n\u001b[0;32m   1199\u001b[0m     index, columns, col_dict \u001b[38;5;241m=\u001b[39m \u001b[38;5;28mself\u001b[39m\u001b[38;5;241m.\u001b[39m_create_index(ret)\n",
      "File \u001b[1;32mC:\\OSGeo4W\\apps\\Python39\\lib\\site-packages\\pandas\\io\\parsers.py:2155\u001b[0m, in \u001b[0;36mCParserWrapper.read\u001b[1;34m(self, nrows)\u001b[0m\n\u001b[0;32m   2153\u001b[0m \u001b[38;5;28;01mdef\u001b[39;00m \u001b[38;5;21mread\u001b[39m(\u001b[38;5;28mself\u001b[39m, nrows\u001b[38;5;241m=\u001b[39m\u001b[38;5;28;01mNone\u001b[39;00m):\n\u001b[0;32m   2154\u001b[0m     \u001b[38;5;28;01mtry\u001b[39;00m:\n\u001b[1;32m-> 2155\u001b[0m         data \u001b[38;5;241m=\u001b[39m \u001b[38;5;28;43mself\u001b[39;49m\u001b[38;5;241;43m.\u001b[39;49m\u001b[43m_reader\u001b[49m\u001b[38;5;241;43m.\u001b[39;49m\u001b[43mread\u001b[49m\u001b[43m(\u001b[49m\u001b[43mnrows\u001b[49m\u001b[43m)\u001b[49m\n\u001b[0;32m   2156\u001b[0m     \u001b[38;5;28;01mexcept\u001b[39;00m \u001b[38;5;167;01mStopIteration\u001b[39;00m:\n\u001b[0;32m   2157\u001b[0m         \u001b[38;5;28;01mif\u001b[39;00m \u001b[38;5;28mself\u001b[39m\u001b[38;5;241m.\u001b[39m_first_chunk:\n",
      "File \u001b[1;32mpandas\\_libs\\parsers.pyx:847\u001b[0m, in \u001b[0;36mpandas._libs.parsers.TextReader.read\u001b[1;34m()\u001b[0m\n",
      "File \u001b[1;32mpandas\\_libs\\parsers.pyx:862\u001b[0m, in \u001b[0;36mpandas._libs.parsers.TextReader._read_low_memory\u001b[1;34m()\u001b[0m\n",
      "File \u001b[1;32mpandas\\_libs\\parsers.pyx:941\u001b[0m, in \u001b[0;36mpandas._libs.parsers.TextReader._read_rows\u001b[1;34m()\u001b[0m\n",
      "File \u001b[1;32mpandas\\_libs\\parsers.pyx:1073\u001b[0m, in \u001b[0;36mpandas._libs.parsers.TextReader._convert_column_data\u001b[1;34m()\u001b[0m\n",
      "File \u001b[1;32mpandas\\_libs\\parsers.pyx:1126\u001b[0m, in \u001b[0;36mpandas._libs.parsers.TextReader._convert_tokens\u001b[1;34m()\u001b[0m\n",
      "File \u001b[1;32mpandas\\_libs\\parsers.pyx:1244\u001b[0m, in \u001b[0;36mpandas._libs.parsers.TextReader._convert_with_dtype\u001b[1;34m()\u001b[0m\n",
      "File \u001b[1;32mpandas\\_libs\\parsers.pyx:1259\u001b[0m, in \u001b[0;36mpandas._libs.parsers.TextReader._string_convert\u001b[1;34m()\u001b[0m\n",
      "File \u001b[1;32mpandas\\_libs\\parsers.pyx:1450\u001b[0m, in \u001b[0;36mpandas._libs.parsers._string_box_utf8\u001b[1;34m()\u001b[0m\n",
      "\u001b[1;31mUnicodeDecodeError\u001b[0m: 'utf-8' codec can't decode byte 0xef in position 10: unexpected end of data"
     ]
    }
   ],
   "source": [
    "#views a sample dataset found online\n",
    "users = pd.read_csv(\"C:\\\\Users\\\\boconnor\\\\OneDrive - UNCCD\\\\GIS\\\\Practice_Python\\\\Voila_Jupyter\\\\Sample_Dataset\\\\user.csv\", index_col=0)\n",
    "users.head()"
   ]
  },
  {
   "cell_type": "code",
   "execution_count": null,
   "id": "bb7fa14d",
   "metadata": {},
   "outputs": [],
   "source": [
    "from IPython.core.display import display, HTML\n",
    "display(HTML('<h3><center>This is a map of the number of users per country!</center></h1>'))"
   ]
  },
  {
   "cell_type": "code",
   "execution_count": null,
   "id": "79eef241",
   "metadata": {
    "scrolled": true
   },
   "outputs": [],
   "source": [
    "#Make map of no. of users per country using Choropleth Maps with go.Choropleth\n",
    "from plotly.offline import init_notebook_mode, iplot\n",
    "init_notebook_mode(connected=True)\n",
    "import plotly.graph_objs as go\n",
    "\n",
    "df = users['country'].replace(\"US\", \"United States\").value_counts()\n",
    "\n",
    "iplot([go.Choropleth(\n",
    "    locationmode='country names',\n",
    "    locations=df.index.values,\n",
    "    text=df.index,\n",
    "    z=df.values,\n",
    "    autocolorscale = True,\n",
    "    colorbar_title = \"Number of users per country\",\n",
    "    colorscale = 'YlOrRd')])\n"
   ]
  },
  {
   "cell_type": "code",
   "execution_count": null,
   "id": "4afa88a2",
   "metadata": {},
   "outputs": [],
   "source": [
    "from IPython.core.display import display, HTML\n",
    "display(HTML('<h3><center>Metric 1: Time accumulated across users per country since PRAIS 4 launched</center></h1>'))"
   ]
  },
  {
   "cell_type": "code",
   "execution_count": null,
   "id": "8b5dff74",
   "metadata": {},
   "outputs": [],
   "source": [
    "#Convert times from string to timestamp\n",
    "users[\"last_seen\"] = pd.to_datetime(users[\"last_seen\"])\n",
    "users[\"date_joined\"] = pd.to_datetime(users[\"date_joined\"])\n",
    "# Calculate difference between date joined and last seen to compute time spent on PRAIS 4\n",
    "users['Time_Spent_PRAIS4'] = users['last_seen'] - users['date_joined']\n",
    "\n",
    "#Convert new calculated field from string to timestamp but only extract the days (ignore h,m,s part)\n",
    "users['Time_Spent_PRAIS4'] = pd.to_timedelta(users.Time_Spent_PRAIS4,errors='coerce').dt.days\n",
    "\n",
    "\n",
    "# Create new data frame to aggregate by country and sum time spent and store result\n",
    "df1 = users.groupby('country', as_index=False)['Time_Spent_PRAIS4'].sum()\n",
    "#print (df1)\n",
    "\n",
    "#Create the column chart\n",
    "data = [go.Bar(\n",
    "   x = df1['country'],\n",
    "   y =  df1['Time_Spent_PRAIS4']\n",
    ")]\n",
    "\n",
    "#Define layout elements\n",
    "layout = go.Layout({ \"title\":\"Time span between launch of PRAIS 4 and last use per country\"})\n",
    "\n",
    "fig = go.Figure(data=data, layout = layout)\n",
    "fig.update_yaxes(\n",
    "        title_text = \"No. of days for all users per country\",\n",
    "        title_standoff = 25)\n",
    "\n",
    "# Set figure title\n",
    "fig.update_layout(title_text=\"Time span between launch of PRAIS 4 and last use per country\")\n",
    "\n",
    "#Sort to be in decreasing order\n",
    "fig.update_layout(xaxis={'categoryorder':'total descending'})\n",
    "\n",
    "\n",
    "iplot(fig)"
   ]
  },
  {
   "cell_type": "code",
   "execution_count": null,
   "id": "7738741f",
   "metadata": {},
   "outputs": [],
   "source": [
    "from IPython.core.display import display, HTML\n",
    "display(HTML('<h3><center>Metric 2: Number of active users per country</center></h1>'))"
   ]
  },
  {
   "cell_type": "code",
   "execution_count": null,
   "id": "4c474672",
   "metadata": {},
   "outputs": [],
   "source": [
    "# No. of users with account per country\n",
    "df2 = users.assign(n=0).groupby('country')['n'].count().reset_index()\n",
    "\n",
    "# No. of users with account per country who never logged in\n",
    "df3 = users.last_login.isnull().groupby([users['country']]).sum().astype(int).reset_index(name='users never logged in')\n",
    "\n",
    "\n",
    "#Create the column chart\n",
    "#data = [go.Bar(\n",
    "#   x = df2['country'],\n",
    "#   y =  df2['n']\n",
    "#)]\n",
    "\n",
    "#fig = go.Figure(data=data)\n",
    "\n",
    "# Set figure title\n",
    "#fig.update_layout(title_text=\"Number of users of PRAIS 4 per country\")\n",
    "\n",
    "\n",
    "\n",
    "#Sort to be in decreasing order\n",
    "#fig.update_layout(xaxis={'categoryorder':'total descending'})\n",
    "\n",
    "#iplot(fig)"
   ]
  },
  {
   "cell_type": "code",
   "execution_count": null,
   "id": "66867c55",
   "metadata": {},
   "outputs": [],
   "source": [
    "# Create stacked column figure\n",
    "fig = go.Figure(data=[\n",
    "    go.Bar(name='Active Users', x=df2['country'], y=df2['n']),\n",
    "    go.Bar(name='Non Active Users', x=df3['country'], y=df3['users never logged in'])\n",
    "])\n",
    "# Change the bar mode\n",
    "fig.update_layout(barmode='stack')\n",
    "#Sort to be in decreasing order\n",
    "fig.update_layout(xaxis={'categoryorder':'total descending'})\n",
    "# Set y-axis title\n",
    "fig.update_yaxes(\n",
    "        title_text = \"Total No. of users\",\n",
    "        title_standoff = 25)\n",
    "\n",
    "# Set figure title\n",
    "fig.update_layout(title_text=\"The number of users who never logged into PRAIS 4 as a proportion of all users per country\")\n",
    "\n",
    "iplot(fig)"
   ]
  },
  {
   "cell_type": "code",
   "execution_count": null,
   "id": "13f94780",
   "metadata": {},
   "outputs": [],
   "source": []
  }
 ],
 "metadata": {
  "kernelspec": {
   "display_name": "Python 3 (ipykernel)",
   "language": "python",
   "name": "python3"
  },
  "language_info": {
   "codemirror_mode": {
    "name": "ipython",
    "version": 3
   },
   "file_extension": ".py",
   "mimetype": "text/x-python",
   "name": "python",
   "nbconvert_exporter": "python",
   "pygments_lexer": "ipython3",
   "version": "3.9.5"
  }
 },
 "nbformat": 4,
 "nbformat_minor": 5
}
